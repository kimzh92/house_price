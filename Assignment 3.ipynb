{
 "cells": [
  {
   "cell_type": "code",
   "execution_count": 54,
   "metadata": {},
   "outputs": [],
   "source": [
    "# Importing necessary packages\n",
    "import pandas as pd # python's data handling package\n",
    "import numpy as np # python's scientific computing package\n",
    "import matplotlib.pyplot as plt # python's plotting package\n",
    "from sklearn.metrics import mean_squared_error as mse\n",
    "from sklearn.linear_model import LinearRegression\n",
    "from sklearn.preprocessing import StandardScaler\n",
    "from sklearn.linear_model import Ridge\n",
    "from sklearn.linear_model import Lasso"
   ]
  },
  {
   "cell_type": "code",
   "execution_count": 55,
   "metadata": {},
   "outputs": [],
   "source": [
    "# Both features and target have already been scaled: mean = 0; SD = 1\n",
    "data = pd.read_csv('Houseprice_data_scaled.csv') \n",
    "raw = pd.read_csv('original data.csv')"
   ]
  },
  {
   "cell_type": "markdown",
   "metadata": {},
   "source": [
    "### Base Case: No Additional Features"
   ]
  },
  {
   "cell_type": "code",
   "execution_count": 56,
   "metadata": {},
   "outputs": [],
   "source": [
    "# First 1800 data items are training set; the next 600 are the validation set\n",
    "train = data.iloc[:1800] \n",
    "val = data.iloc[1800:2400]"
   ]
  },
  {
   "cell_type": "code",
   "execution_count": 57,
   "metadata": {},
   "outputs": [],
   "source": [
    "# Creating the \"X\" and \"y\" variables. We drop sale price from \"X\"\n",
    "X_train, X_val = train.drop('Sale Price', axis=1), val.drop('Sale Price', axis=1)\n",
    "y_train, y_val = train[['Sale Price']], val[['Sale Price']] "
   ]
  },
  {
   "cell_type": "markdown",
   "metadata": {},
   "source": [
    "##### Ridge Regression"
   ]
  },
  {
   "cell_type": "code",
   "execution_count": 58,
   "metadata": {},
   "outputs": [
    {
     "name": "stdout",
     "output_type": "stream",
     "text": [
      "0.11703284346091346\n",
      "0.11710797319752994\n",
      "0.11723952924901127\n",
      "0.11741457158889525\n",
      "0.11762384068711469\n",
      "0.11825709631198024\n",
      "0.11900057469147929\n",
      "0.12254649996292954\n",
      "0.13073599680747133\n"
     ]
    }
   ],
   "source": [
    "# The alpha used by Python's ridge should be the lambda in Hull's book times the number of observations\n",
    "alphas=[0.01*1800, 0.02*1800, 0.03*1800, 0.04*1800, 0.05*1800, 0.075*1800,0.1*1800,0.2*1800, 0.4*1800]\n",
    "mses=[]\n",
    "for alpha in alphas:\n",
    "    ridge=Ridge(alpha=alpha)\n",
    "    ridge.fit(X_train,y_train)\n",
    "    pred=ridge.predict(X_val)\n",
    "    mses.append(mse(y_val,pred))\n",
    "    print(mse(y_val,pred))"
   ]
  },
  {
   "cell_type": "markdown",
   "metadata": {},
   "source": [
    "##### Lasso Regression"
   ]
  },
  {
   "cell_type": "code",
   "execution_count": 59,
   "metadata": {},
   "outputs": [
    {
     "name": "stdout",
     "output_type": "stream",
     "text": [
      "0.11654751909608793\n",
      "0.11682687945311092\n",
      "0.11803348353132027\n",
      "0.12012836764958999\n",
      "0.12301536903084047\n",
      "0.13178576395045638\n",
      "0.14017194584483775\n"
     ]
    }
   ],
   "source": [
    "# We now consider different lambda values. The alphas are half the lambdas\n",
    "alphas=[0.01/2, 0.02/2, 0.03/2, 0.04/2, 0.05/2, 0.075/2, 0.1/2]\n",
    "mses=[]\n",
    "for alpha in alphas:\n",
    "    lasso=Lasso(alpha=alpha)\n",
    "    lasso.fit(X_train,y_train)\n",
    "    pred=lasso.predict(X_val)\n",
    "    mses.append(mse(y_val,pred))\n",
    "    print(mse(y_val, pred))"
   ]
  },
  {
   "cell_type": "code",
   "execution_count": 60,
   "metadata": {},
   "outputs": [
    {
     "data": {
      "text/html": [
       "<div>\n",
       "<style scoped>\n",
       "    .dataframe tbody tr th:only-of-type {\n",
       "        vertical-align: middle;\n",
       "    }\n",
       "\n",
       "    .dataframe tbody tr th {\n",
       "        vertical-align: top;\n",
       "    }\n",
       "\n",
       "    .dataframe thead th {\n",
       "        text-align: right;\n",
       "    }\n",
       "</style>\n",
       "<table border=\"1\" class=\"dataframe\">\n",
       "  <thead>\n",
       "    <tr style=\"text-align: right;\">\n",
       "      <th></th>\n",
       "      <th>1</th>\n",
       "    </tr>\n",
       "    <tr>\n",
       "      <th>0</th>\n",
       "      <th></th>\n",
       "    </tr>\n",
       "  </thead>\n",
       "  <tbody>\n",
       "    <tr>\n",
       "      <th>intercept</th>\n",
       "      <td>-1.25303e-11</td>\n",
       "    </tr>\n",
       "    <tr>\n",
       "      <th>LotArea</th>\n",
       "      <td>0.0443042</td>\n",
       "    </tr>\n",
       "    <tr>\n",
       "      <th>OverallQual</th>\n",
       "      <td>0.298079</td>\n",
       "    </tr>\n",
       "    <tr>\n",
       "      <th>OverallCond</th>\n",
       "      <td>0</td>\n",
       "    </tr>\n",
       "    <tr>\n",
       "      <th>YearBuilt</th>\n",
       "      <td>0.0520907</td>\n",
       "    </tr>\n",
       "    <tr>\n",
       "      <th>YearRemodAdd</th>\n",
       "      <td>0.0644712</td>\n",
       "    </tr>\n",
       "    <tr>\n",
       "      <th>BsmtFinSF1</th>\n",
       "      <td>0.115875</td>\n",
       "    </tr>\n",
       "    <tr>\n",
       "      <th>BsmtUnfSF</th>\n",
       "      <td>-0</td>\n",
       "    </tr>\n",
       "    <tr>\n",
       "      <th>TotalBsmtSF</th>\n",
       "      <td>0.10312</td>\n",
       "    </tr>\n",
       "    <tr>\n",
       "      <th>1stFlrSF</th>\n",
       "      <td>0.0322946</td>\n",
       "    </tr>\n",
       "    <tr>\n",
       "      <th>2ndFlrSF</th>\n",
       "      <td>0</td>\n",
       "    </tr>\n",
       "    <tr>\n",
       "      <th>GrLivArea</th>\n",
       "      <td>0.297065</td>\n",
       "    </tr>\n",
       "    <tr>\n",
       "      <th>FullBath</th>\n",
       "      <td>0</td>\n",
       "    </tr>\n",
       "    <tr>\n",
       "      <th>HalfBath</th>\n",
       "      <td>0</td>\n",
       "    </tr>\n",
       "    <tr>\n",
       "      <th>BedroomAbvGr</th>\n",
       "      <td>-0</td>\n",
       "    </tr>\n",
       "    <tr>\n",
       "      <th>TotRmsAbvGrd</th>\n",
       "      <td>0</td>\n",
       "    </tr>\n",
       "    <tr>\n",
       "      <th>Fireplaces</th>\n",
       "      <td>0.0204043</td>\n",
       "    </tr>\n",
       "    <tr>\n",
       "      <th>GarageCars</th>\n",
       "      <td>0.027512</td>\n",
       "    </tr>\n",
       "    <tr>\n",
       "      <th>GarageArea</th>\n",
       "      <td>0.0664096</td>\n",
       "    </tr>\n",
       "    <tr>\n",
       "      <th>WoodDeckSF</th>\n",
       "      <td>0.00102883</td>\n",
       "    </tr>\n",
       "    <tr>\n",
       "      <th>OpenPorchSF</th>\n",
       "      <td>0.00215018</td>\n",
       "    </tr>\n",
       "    <tr>\n",
       "      <th>EnclosedPorch</th>\n",
       "      <td>-0</td>\n",
       "    </tr>\n",
       "    <tr>\n",
       "      <th>Blmngtn</th>\n",
       "      <td>-0</td>\n",
       "    </tr>\n",
       "    <tr>\n",
       "      <th>Blueste</th>\n",
       "      <td>-0</td>\n",
       "    </tr>\n",
       "    <tr>\n",
       "      <th>BrDale</th>\n",
       "      <td>-0</td>\n",
       "    </tr>\n",
       "    <tr>\n",
       "      <th>BrkSide</th>\n",
       "      <td>0</td>\n",
       "    </tr>\n",
       "    <tr>\n",
       "      <th>ClearCr</th>\n",
       "      <td>0</td>\n",
       "    </tr>\n",
       "    <tr>\n",
       "      <th>CollgCr</th>\n",
       "      <td>-0</td>\n",
       "    </tr>\n",
       "    <tr>\n",
       "      <th>Crawfor</th>\n",
       "      <td>0</td>\n",
       "    </tr>\n",
       "    <tr>\n",
       "      <th>Edwards</th>\n",
       "      <td>-0</td>\n",
       "    </tr>\n",
       "    <tr>\n",
       "      <th>Gilbert</th>\n",
       "      <td>0</td>\n",
       "    </tr>\n",
       "    <tr>\n",
       "      <th>IDOTRR</th>\n",
       "      <td>-0</td>\n",
       "    </tr>\n",
       "    <tr>\n",
       "      <th>MeadowV</th>\n",
       "      <td>-0</td>\n",
       "    </tr>\n",
       "    <tr>\n",
       "      <th>Mitchel</th>\n",
       "      <td>-0</td>\n",
       "    </tr>\n",
       "    <tr>\n",
       "      <th>Names</th>\n",
       "      <td>-0</td>\n",
       "    </tr>\n",
       "    <tr>\n",
       "      <th>NoRidge</th>\n",
       "      <td>0.013209</td>\n",
       "    </tr>\n",
       "    <tr>\n",
       "      <th>NPkVill</th>\n",
       "      <td>-0</td>\n",
       "    </tr>\n",
       "    <tr>\n",
       "      <th>NriddgHt</th>\n",
       "      <td>0.0842993</td>\n",
       "    </tr>\n",
       "    <tr>\n",
       "      <th>NWAmes</th>\n",
       "      <td>-0</td>\n",
       "    </tr>\n",
       "    <tr>\n",
       "      <th>OLDTown</th>\n",
       "      <td>-0</td>\n",
       "    </tr>\n",
       "    <tr>\n",
       "      <th>SWISU</th>\n",
       "      <td>-0</td>\n",
       "    </tr>\n",
       "    <tr>\n",
       "      <th>Sawyer</th>\n",
       "      <td>-0</td>\n",
       "    </tr>\n",
       "    <tr>\n",
       "      <th>SawyerW</th>\n",
       "      <td>-0</td>\n",
       "    </tr>\n",
       "    <tr>\n",
       "      <th>Somerst</th>\n",
       "      <td>0</td>\n",
       "    </tr>\n",
       "    <tr>\n",
       "      <th>StoneBr</th>\n",
       "      <td>0.0168153</td>\n",
       "    </tr>\n",
       "    <tr>\n",
       "      <th>Timber</th>\n",
       "      <td>0</td>\n",
       "    </tr>\n",
       "    <tr>\n",
       "      <th>Veenker</th>\n",
       "      <td>0</td>\n",
       "    </tr>\n",
       "    <tr>\n",
       "      <th>Bsmt Qual</th>\n",
       "      <td>0.0202754</td>\n",
       "    </tr>\n",
       "  </tbody>\n",
       "</table>\n",
       "</div>"
      ],
      "text/plain": [
       "                         1\n",
       "0                         \n",
       "intercept     -1.25303e-11\n",
       "LotArea          0.0443042\n",
       "OverallQual       0.298079\n",
       "OverallCond              0\n",
       "YearBuilt        0.0520907\n",
       "YearRemodAdd     0.0644712\n",
       "BsmtFinSF1        0.115875\n",
       "BsmtUnfSF               -0\n",
       "TotalBsmtSF        0.10312\n",
       "1stFlrSF         0.0322946\n",
       "2ndFlrSF                 0\n",
       "GrLivArea         0.297065\n",
       "FullBath                 0\n",
       "HalfBath                 0\n",
       "BedroomAbvGr            -0\n",
       "TotRmsAbvGrd             0\n",
       "Fireplaces       0.0204043\n",
       "GarageCars        0.027512\n",
       "GarageArea       0.0664096\n",
       "WoodDeckSF      0.00102883\n",
       "OpenPorchSF     0.00215018\n",
       "EnclosedPorch           -0\n",
       "Blmngtn                 -0\n",
       "Blueste                 -0\n",
       "BrDale                  -0\n",
       "BrkSide                  0\n",
       "ClearCr                  0\n",
       "CollgCr                 -0\n",
       "Crawfor                  0\n",
       "Edwards                 -0\n",
       "Gilbert                  0\n",
       "IDOTRR                  -0\n",
       "MeadowV                 -0\n",
       "Mitchel                 -0\n",
       "Names                   -0\n",
       "NoRidge           0.013209\n",
       "NPkVill                 -0\n",
       "NriddgHt         0.0842993\n",
       "NWAmes                  -0\n",
       "OLDTown                 -0\n",
       "SWISU                   -0\n",
       "Sawyer                  -0\n",
       "SawyerW                 -0\n",
       "Somerst                  0\n",
       "StoneBr          0.0168153\n",
       "Timber                   0\n",
       "Veenker                  0\n",
       "Bsmt Qual        0.0202754"
      ]
     },
     "execution_count": 60,
     "metadata": {},
     "output_type": "execute_result"
    }
   ],
   "source": [
    "coeffs = pd.DataFrame(\n",
    "    [\n",
    "        ['intercept'] + list(X_train.columns),\n",
    "        list(lasso.intercept_) + list(lasso.coef_)\n",
    "    ]\n",
    ").transpose().set_index(0)\n",
    "coeffs"
   ]
  },
  {
   "cell_type": "markdown",
   "metadata": {},
   "source": [
    "### Step1. Add LotFrontage "
   ]
  },
  {
   "cell_type": "markdown",
   "metadata": {},
   "source": [
    "The missing values of LotFrontage are imputed. Three imputation methods are considered: median, KNN, and MICE"
   ]
  },
  {
   "cell_type": "markdown",
   "metadata": {},
   "source": [
    "#### 1. Median Imputation  \n",
    "If there are many missing values, we may end up building a biased model that lacks precision. This can lead to incorrect results if the missing values are not handled properly. As the summary statistics shown below, the standard deviation of LotFrontage is relatively large and there exists some outliers (max: 313 vs. min: 21). Imputation using median values can fill the missing values while avoiding any potential outlier effects."
   ]
  },
  {
   "cell_type": "code",
   "execution_count": 34,
   "metadata": {},
   "outputs": [
    {
     "data": {
      "text/plain": [
       "count    2422.000000\n",
       "mean       69.083815\n",
       "std        22.691072\n",
       "min        21.000000\n",
       "25%        59.000000\n",
       "50%        68.000000\n",
       "75%        80.000000\n",
       "max       313.000000\n",
       "Name: LotFrontage, dtype: float64"
      ]
     },
     "execution_count": 34,
     "metadata": {},
     "output_type": "execute_result"
    }
   ],
   "source": [
    "raw['LotFrontage'].describe()"
   ]
  },
  {
   "cell_type": "code",
   "execution_count": 35,
   "metadata": {},
   "outputs": [],
   "source": [
    "# Replace NA with median \n",
    "raw_m = raw['LotFrontage'].fillna(raw['LotFrontage'].median()) \n",
    "\n",
    "# Z-Scale\n",
    "raw_m = (raw_m - raw_m.mean()) / raw_m.std()"
   ]
  },
  {
   "cell_type": "code",
   "execution_count": 36,
   "metadata": {},
   "outputs": [],
   "source": [
    "# First 1800 data items are training set; the next 600 are the validation set\n",
    "data['LotFrontage (median)'] = raw_m\n",
    "train_m = data.iloc[:1800] \n",
    "val_m = data.iloc[1800:2400]"
   ]
  },
  {
   "cell_type": "code",
   "execution_count": 37,
   "metadata": {},
   "outputs": [],
   "source": [
    "# Creating the \"X\" and \"y\" variables. We drop sale price from \"X\"\n",
    "X_tm, X_vm = train_m.drop('Sale Price', axis=1), val_m.drop('Sale Price', axis=1)\n",
    "y_tm, y_vm = train_m[['Sale Price']], val_m[['Sale Price']] "
   ]
  },
  {
   "cell_type": "markdown",
   "metadata": {},
   "source": [
    "##### Ridge Regression"
   ]
  },
  {
   "cell_type": "code",
   "execution_count": 38,
   "metadata": {},
   "outputs": [
    {
     "name": "stdout",
     "output_type": "stream",
     "text": [
      "0.1132204590229198\n",
      "0.11330538984245145\n",
      "0.11344725488406335\n",
      "0.1136323267083885\n",
      "0.11385103489053112\n",
      "0.1145047726400233\n",
      "0.11526451677314284\n",
      "0.11884784889045473\n",
      "0.12705432530764124\n"
     ]
    }
   ],
   "source": [
    "# The alpha used by Python's ridge should be the lambda in Hull's book times the number of observations\n",
    "alphas=[0.01*1800, 0.02*1800, 0.03*1800, 0.04*1800, 0.05*1800, 0.075*1800,0.1*1800,0.2*1800, 0.4*1800]\n",
    "mses=[]\n",
    "for alpha in alphas:\n",
    "    ridge=Ridge(alpha=alpha)\n",
    "    ridge.fit(X_tm,y_tm)\n",
    "    pred_m =ridge.predict(X_vm)\n",
    "    mses.append(mse(y_vm,pred_m))\n",
    "    print(mse(y_vm,pred_m))"
   ]
  },
  {
   "cell_type": "markdown",
   "metadata": {},
   "source": [
    "###### Lasso with different levels of alpha and its mse"
   ]
  },
  {
   "cell_type": "code",
   "execution_count": 39,
   "metadata": {},
   "outputs": [
    {
     "name": "stdout",
     "output_type": "stream",
     "text": [
      "0.11277532082060478\n",
      "0.11275024517969896\n",
      "0.11401957020270513\n",
      "0.11640507064421318\n",
      "0.11964967018590243\n",
      "0.1297212950846984\n",
      "0.1387105562903177\n"
     ]
    }
   ],
   "source": [
    "# We now consider different lambda values. The alphas are half the lambdas\n",
    "alphas=[0.01/2, 0.02/2, 0.03/2, 0.04/2, 0.05/2, 0.075/2, 0.1/2]\n",
    "mses=[]\n",
    "for alpha in alphas:\n",
    "    lasso=Lasso(alpha=alpha)\n",
    "    lasso.fit(X_tm,y_tm)\n",
    "    pred_m=lasso.predict(X_vm)\n",
    "    mses.append(mse(y_vm,pred_m))\n",
    "    print(mse(y_vm, pred_m))"
   ]
  },
  {
   "cell_type": "markdown",
   "metadata": {},
   "source": [
    "#### 2. KNNImputer \n",
    "Imputation of Missing Value Using sci-kit learn Library (Multivaraite Approach). The missing values might be correlated with some other features such as Neighborhood and YearBuilt. We can impute the missing values by finding non-missing ones that are similar in terms of those features using the k-Nearest Neighbors approach where a Euclidean distance is used to find the nearest neighbors."
   ]
  },
  {
   "cell_type": "code",
   "execution_count": 3,
   "metadata": {},
   "outputs": [],
   "source": [
    "test = raw.copy()\n",
    "NA = test[test['LotFrontage'].isnull()]\n",
    "V = test[test['LotFrontage'].notnull()]\n",
    "NA = NA.astype('category').apply(lambda x: x.cat.codes) \n",
    "V = V.astype('category').apply(lambda x: x.cat.codes) \n",
    "Diff = abs(V.mean()-NA.mean()).to_frame()\n",
    "Diff = Diff[Diff[0]>2]\n",
    "Large = Diff[2:-1]"
   ]
  },
  {
   "cell_type": "code",
   "execution_count": 4,
   "metadata": {},
   "outputs": [
    {
     "name": "stderr",
     "output_type": "stream",
     "text": [
      "C:\\Users\\mzhan\\AppData\\Local\\Continuum\\anaconda3\\lib\\site-packages\\ipykernel_launcher.py:3: SettingWithCopyWarning: \n",
      "A value is trying to be set on a copy of a slice from a DataFrame.\n",
      "Try using .loc[row_indexer,col_indexer] = value instead\n",
      "\n",
      "See the caveats in the documentation: http://pandas.pydata.org/pandas-docs/stable/indexing.html#indexing-view-versus-copy\n",
      "  This is separate from the ipykernel package so we can avoid doing imports until\n"
     ]
    },
    {
     "data": {
      "text/html": [
       "<div>\n",
       "<style scoped>\n",
       "    .dataframe tbody tr th:only-of-type {\n",
       "        vertical-align: middle;\n",
       "    }\n",
       "\n",
       "    .dataframe tbody tr th {\n",
       "        vertical-align: top;\n",
       "    }\n",
       "\n",
       "    .dataframe thead th {\n",
       "        text-align: right;\n",
       "    }\n",
       "</style>\n",
       "<table border=\"1\" class=\"dataframe\">\n",
       "  <thead>\n",
       "    <tr style=\"text-align: right;\">\n",
       "      <th></th>\n",
       "      <th>0</th>\n",
       "      <th>std</th>\n",
       "    </tr>\n",
       "  </thead>\n",
       "  <tbody>\n",
       "    <tr>\n",
       "      <th>LotArea</th>\n",
       "      <td>511.724762</td>\n",
       "      <td>448.983557</td>\n",
       "    </tr>\n",
       "    <tr>\n",
       "      <th>Neighborhood</th>\n",
       "      <td>2.394717</td>\n",
       "      <td>6.015492</td>\n",
       "    </tr>\n",
       "    <tr>\n",
       "      <th>YearBuilt</th>\n",
       "      <td>24.453706</td>\n",
       "      <td>30.291424</td>\n",
       "    </tr>\n",
       "    <tr>\n",
       "      <th>YearRemodAdd</th>\n",
       "      <td>2.056191</td>\n",
       "      <td>20.875788</td>\n",
       "    </tr>\n",
       "    <tr>\n",
       "      <th>Exterior1st</th>\n",
       "      <td>3.865120</td>\n",
       "      <td>3.448812</td>\n",
       "    </tr>\n",
       "    <tr>\n",
       "      <th>Exterior2nd</th>\n",
       "      <td>3.771576</td>\n",
       "      <td>3.757949</td>\n",
       "    </tr>\n",
       "    <tr>\n",
       "      <th>MasVnrArea</th>\n",
       "      <td>26.363593</td>\n",
       "      <td>95.220497</td>\n",
       "    </tr>\n",
       "    <tr>\n",
       "      <th>BsmtFinSF1</th>\n",
       "      <td>139.753346</td>\n",
       "      <td>256.935192</td>\n",
       "    </tr>\n",
       "    <tr>\n",
       "      <th>BsmtFinSF2</th>\n",
       "      <td>7.077873</td>\n",
       "      <td>37.196082</td>\n",
       "    </tr>\n",
       "    <tr>\n",
       "      <th>BsmtUnfSF</th>\n",
       "      <td>269.052716</td>\n",
       "      <td>289.524532</td>\n",
       "    </tr>\n",
       "    <tr>\n",
       "      <th>TotalBsmtSF</th>\n",
       "      <td>243.542342</td>\n",
       "      <td>255.470164</td>\n",
       "    </tr>\n",
       "    <tr>\n",
       "      <th>1stFlrSF</th>\n",
       "      <td>255.279954</td>\n",
       "      <td>265.091979</td>\n",
       "    </tr>\n",
       "    <tr>\n",
       "      <th>2ndFlrSF</th>\n",
       "      <td>79.697111</td>\n",
       "      <td>152.647223</td>\n",
       "    </tr>\n",
       "    <tr>\n",
       "      <th>GrLivArea</th>\n",
       "      <td>333.382330</td>\n",
       "      <td>307.941464</td>\n",
       "    </tr>\n",
       "    <tr>\n",
       "      <th>GarageYrBlt</th>\n",
       "      <td>16.524323</td>\n",
       "      <td>29.284719</td>\n",
       "    </tr>\n",
       "    <tr>\n",
       "      <th>GarageArea</th>\n",
       "      <td>98.848403</td>\n",
       "      <td>137.393413</td>\n",
       "    </tr>\n",
       "    <tr>\n",
       "      <th>WoodDeckSF</th>\n",
       "      <td>28.565816</td>\n",
       "      <td>80.511239</td>\n",
       "    </tr>\n",
       "    <tr>\n",
       "      <th>OpenPorchSF</th>\n",
       "      <td>11.101657</td>\n",
       "      <td>49.764700</td>\n",
       "    </tr>\n",
       "    <tr>\n",
       "      <th>EnclosedPorch</th>\n",
       "      <td>9.397291</td>\n",
       "      <td>29.969162</td>\n",
       "    </tr>\n",
       "    <tr>\n",
       "      <th>ScreenPorch</th>\n",
       "      <td>2.749965</td>\n",
       "      <td>15.109688</td>\n",
       "    </tr>\n",
       "  </tbody>\n",
       "</table>\n",
       "</div>"
      ],
      "text/plain": [
       "                        0         std\n",
       "LotArea        511.724762  448.983557\n",
       "Neighborhood     2.394717    6.015492\n",
       "YearBuilt       24.453706   30.291424\n",
       "YearRemodAdd     2.056191   20.875788\n",
       "Exterior1st      3.865120    3.448812\n",
       "Exterior2nd      3.771576    3.757949\n",
       "MasVnrArea      26.363593   95.220497\n",
       "BsmtFinSF1     139.753346  256.935192\n",
       "BsmtFinSF2       7.077873   37.196082\n",
       "BsmtUnfSF      269.052716  289.524532\n",
       "TotalBsmtSF    243.542342  255.470164\n",
       "1stFlrSF       255.279954  265.091979\n",
       "2ndFlrSF        79.697111  152.647223\n",
       "GrLivArea      333.382330  307.941464\n",
       "GarageYrBlt     16.524323   29.284719\n",
       "GarageArea      98.848403  137.393413\n",
       "WoodDeckSF      28.565816   80.511239\n",
       "OpenPorchSF     11.101657   49.764700\n",
       "EnclosedPorch    9.397291   29.969162\n",
       "ScreenPorch      2.749965   15.109688"
      ]
     },
     "execution_count": 4,
     "metadata": {},
     "output_type": "execute_result"
    }
   ],
   "source": [
    "frames = [V, NA]\n",
    "result = pd.concat(frames)\n",
    "Large['std']= result[Diff[2:].index].std().to_frame()\n",
    "Large"
   ]
  },
  {
   "cell_type": "code",
   "execution_count": 5,
   "metadata": {
    "scrolled": true
   },
   "outputs": [
    {
     "data": {
      "text/plain": [
       "Index(['LotArea', 'Neighborhood', 'YearBuilt', 'YearRemodAdd', 'Exterior1st',\n",
       "       'Exterior2nd', 'MasVnrArea', 'BsmtFinSF1', 'BsmtFinSF2', 'BsmtUnfSF',\n",
       "       'TotalBsmtSF', '1stFlrSF', '2ndFlrSF', 'GrLivArea', 'GarageYrBlt',\n",
       "       'GarageArea', 'WoodDeckSF', 'OpenPorchSF', 'EnclosedPorch',\n",
       "       'ScreenPorch'],\n",
       "      dtype='object')"
      ]
     },
     "execution_count": 5,
     "metadata": {},
     "output_type": "execute_result"
    }
   ],
   "source": [
    "Diff[2:-1].index # excluding ID, LotFrontage, and SalesPrice"
   ]
  },
  {
   "cell_type": "code",
   "execution_count": 15,
   "metadata": {},
   "outputs": [],
   "source": [
    "x_knn = raw[Diff[2:-1].index]\n",
    "x_knn = x_knn.astype('category').apply(lambda x: x.cat.codes)\n",
    "x_knn['LotFrontage']=raw['LotFrontage']\n",
    "x_knn.head()\n",
    "b=x_knn.columns"
   ]
  },
  {
   "cell_type": "code",
   "execution_count": 16,
   "metadata": {
    "scrolled": true
   },
   "outputs": [],
   "source": [
    "scaler = StandardScaler()\n",
    "scaler.fit(x_knn)\n",
    "\n",
    "x_knn = pd.DataFrame(scaler.transform(x_knn),columns=b)\n"
   ]
  },
  {
   "cell_type": "code",
   "execution_count": 45,
   "metadata": {},
   "outputs": [],
   "source": [
    "from sklearn.impute import KNNImputer\n",
    "impute_knn = KNNImputer(n_neighbors=2, weights = 'uniform')\n",
    "z = impute_knn.fit_transform(x_knn)\n",
    "raw_knn = pd.DataFrame(z[:,20:],columns=['LotFrontage'])\n"
   ]
  },
  {
   "cell_type": "code",
   "execution_count": 46,
   "metadata": {},
   "outputs": [],
   "source": [
    "# First 1800 data items are training set; the next 600 are the validation set\n",
    "data['LotFrontage (knn)'] = raw_knn\n",
    "data_KNN=data.copy().drop(columns=['LotFrontage (median)'])\n",
    "train = data_KNN.iloc[:1800] \n",
    "val = data_KNN.iloc[1800:2400]"
   ]
  },
  {
   "cell_type": "code",
   "execution_count": 50,
   "metadata": {},
   "outputs": [],
   "source": [
    "# Creating the \"X\" and \"y\" variables. We drop sale price from \"X\"\n",
    "X_train, X_val = train.drop(['Sale Price'], axis=1), val.drop(['Sale Price'], axis=1)\n",
    "y_train, y_val = train[['Sale Price']], val[['Sale Price']] "
   ]
  },
  {
   "cell_type": "markdown",
   "metadata": {},
   "source": [
    "###### Ridge Regression"
   ]
  },
  {
   "cell_type": "code",
   "execution_count": 51,
   "metadata": {},
   "outputs": [
    {
     "name": "stdout",
     "output_type": "stream",
     "text": [
      "0.11409311915479867\n",
      "0.1141674265595917\n",
      "0.1143014941217504\n",
      "0.11448074617414193\n",
      "0.11469509322084899\n",
      "0.11534223670388641\n",
      "0.11609921220047241\n",
      "0.11968606330460735\n",
      "0.12791147040521872\n"
     ]
    }
   ],
   "source": [
    "# The alpha used by Python's ridge should be the lambda in Hull's book times the number of observations\n",
    "alphas=[0.01*1800, 0.02*1800, 0.03*1800, 0.04*1800, 0.05*1800, 0.075*1800,0.1*1800,0.2*1800, 0.4*1800]\n",
    "mses=[]\n",
    "for alpha in alphas:\n",
    "    ridge=Ridge(alpha=alpha)\n",
    "    ridge.fit(X_train,y_train)\n",
    "    pred=ridge.predict(X_val)\n",
    "    mses.append(mse(y_val,pred))\n",
    "    print(mse(y_val,pred))"
   ]
  },
  {
   "cell_type": "code",
   "execution_count": 53,
   "metadata": {},
   "outputs": [
    {
     "data": {
      "text/html": [
       "<div>\n",
       "<style scoped>\n",
       "    .dataframe tbody tr th:only-of-type {\n",
       "        vertical-align: middle;\n",
       "    }\n",
       "\n",
       "    .dataframe tbody tr th {\n",
       "        vertical-align: top;\n",
       "    }\n",
       "\n",
       "    .dataframe thead th {\n",
       "        text-align: right;\n",
       "    }\n",
       "</style>\n",
       "<table border=\"1\" class=\"dataframe\">\n",
       "  <thead>\n",
       "    <tr style=\"text-align: right;\">\n",
       "      <th></th>\n",
       "      <th>1</th>\n",
       "    </tr>\n",
       "    <tr>\n",
       "      <th>0</th>\n",
       "      <th></th>\n",
       "    </tr>\n",
       "  </thead>\n",
       "  <tbody>\n",
       "    <tr>\n",
       "      <th>intercept</th>\n",
       "      <td>-0.000557524</td>\n",
       "    </tr>\n",
       "    <tr>\n",
       "      <th>LotArea</th>\n",
       "      <td>0.0412715</td>\n",
       "    </tr>\n",
       "    <tr>\n",
       "      <th>OverallQual</th>\n",
       "      <td>0.298858</td>\n",
       "    </tr>\n",
       "    <tr>\n",
       "      <th>OverallCond</th>\n",
       "      <td>0</td>\n",
       "    </tr>\n",
       "    <tr>\n",
       "      <th>YearBuilt</th>\n",
       "      <td>0.0521873</td>\n",
       "    </tr>\n",
       "    <tr>\n",
       "      <th>YearRemodAdd</th>\n",
       "      <td>0.0656908</td>\n",
       "    </tr>\n",
       "    <tr>\n",
       "      <th>BsmtFinSF1</th>\n",
       "      <td>0.116139</td>\n",
       "    </tr>\n",
       "    <tr>\n",
       "      <th>BsmtUnfSF</th>\n",
       "      <td>-0</td>\n",
       "    </tr>\n",
       "    <tr>\n",
       "      <th>TotalBsmtSF</th>\n",
       "      <td>0.10346</td>\n",
       "    </tr>\n",
       "    <tr>\n",
       "      <th>1stFlrSF</th>\n",
       "      <td>0.0284239</td>\n",
       "    </tr>\n",
       "    <tr>\n",
       "      <th>2ndFlrSF</th>\n",
       "      <td>0</td>\n",
       "    </tr>\n",
       "    <tr>\n",
       "      <th>GrLivArea</th>\n",
       "      <td>0.295295</td>\n",
       "    </tr>\n",
       "    <tr>\n",
       "      <th>FullBath</th>\n",
       "      <td>0</td>\n",
       "    </tr>\n",
       "    <tr>\n",
       "      <th>HalfBath</th>\n",
       "      <td>0</td>\n",
       "    </tr>\n",
       "    <tr>\n",
       "      <th>BedroomAbvGr</th>\n",
       "      <td>-0</td>\n",
       "    </tr>\n",
       "    <tr>\n",
       "      <th>TotRmsAbvGrd</th>\n",
       "      <td>0</td>\n",
       "    </tr>\n",
       "    <tr>\n",
       "      <th>Fireplaces</th>\n",
       "      <td>0.020196</td>\n",
       "    </tr>\n",
       "    <tr>\n",
       "      <th>GarageCars</th>\n",
       "      <td>0.0280854</td>\n",
       "    </tr>\n",
       "    <tr>\n",
       "      <th>GarageArea</th>\n",
       "      <td>0.0633307</td>\n",
       "    </tr>\n",
       "    <tr>\n",
       "      <th>WoodDeckSF</th>\n",
       "      <td>0.00124881</td>\n",
       "    </tr>\n",
       "    <tr>\n",
       "      <th>OpenPorchSF</th>\n",
       "      <td>0.00191943</td>\n",
       "    </tr>\n",
       "    <tr>\n",
       "      <th>EnclosedPorch</th>\n",
       "      <td>-0</td>\n",
       "    </tr>\n",
       "    <tr>\n",
       "      <th>Blmngtn</th>\n",
       "      <td>-0</td>\n",
       "    </tr>\n",
       "    <tr>\n",
       "      <th>Blueste</th>\n",
       "      <td>-0</td>\n",
       "    </tr>\n",
       "    <tr>\n",
       "      <th>BrDale</th>\n",
       "      <td>-0</td>\n",
       "    </tr>\n",
       "    <tr>\n",
       "      <th>BrkSide</th>\n",
       "      <td>0</td>\n",
       "    </tr>\n",
       "    <tr>\n",
       "      <th>ClearCr</th>\n",
       "      <td>0</td>\n",
       "    </tr>\n",
       "    <tr>\n",
       "      <th>CollgCr</th>\n",
       "      <td>-0</td>\n",
       "    </tr>\n",
       "    <tr>\n",
       "      <th>Crawfor</th>\n",
       "      <td>0</td>\n",
       "    </tr>\n",
       "    <tr>\n",
       "      <th>Edwards</th>\n",
       "      <td>-0</td>\n",
       "    </tr>\n",
       "    <tr>\n",
       "      <th>Gilbert</th>\n",
       "      <td>-0</td>\n",
       "    </tr>\n",
       "    <tr>\n",
       "      <th>IDOTRR</th>\n",
       "      <td>-0</td>\n",
       "    </tr>\n",
       "    <tr>\n",
       "      <th>MeadowV</th>\n",
       "      <td>-0</td>\n",
       "    </tr>\n",
       "    <tr>\n",
       "      <th>Mitchel</th>\n",
       "      <td>-0</td>\n",
       "    </tr>\n",
       "    <tr>\n",
       "      <th>Names</th>\n",
       "      <td>-0</td>\n",
       "    </tr>\n",
       "    <tr>\n",
       "      <th>NoRidge</th>\n",
       "      <td>0.0125446</td>\n",
       "    </tr>\n",
       "    <tr>\n",
       "      <th>NPkVill</th>\n",
       "      <td>-0</td>\n",
       "    </tr>\n",
       "    <tr>\n",
       "      <th>NriddgHt</th>\n",
       "      <td>0.083945</td>\n",
       "    </tr>\n",
       "    <tr>\n",
       "      <th>NWAmes</th>\n",
       "      <td>-0</td>\n",
       "    </tr>\n",
       "    <tr>\n",
       "      <th>OLDTown</th>\n",
       "      <td>-0</td>\n",
       "    </tr>\n",
       "    <tr>\n",
       "      <th>SWISU</th>\n",
       "      <td>-0</td>\n",
       "    </tr>\n",
       "    <tr>\n",
       "      <th>Sawyer</th>\n",
       "      <td>-0</td>\n",
       "    </tr>\n",
       "    <tr>\n",
       "      <th>SawyerW</th>\n",
       "      <td>-0</td>\n",
       "    </tr>\n",
       "    <tr>\n",
       "      <th>Somerst</th>\n",
       "      <td>0</td>\n",
       "    </tr>\n",
       "    <tr>\n",
       "      <th>StoneBr</th>\n",
       "      <td>0.0181744</td>\n",
       "    </tr>\n",
       "    <tr>\n",
       "      <th>Timber</th>\n",
       "      <td>0</td>\n",
       "    </tr>\n",
       "    <tr>\n",
       "      <th>Veenker</th>\n",
       "      <td>0</td>\n",
       "    </tr>\n",
       "    <tr>\n",
       "      <th>Bsmt Qual</th>\n",
       "      <td>0.0203862</td>\n",
       "    </tr>\n",
       "    <tr>\n",
       "      <th>LotFrontage (knn)</th>\n",
       "      <td>0.0144493</td>\n",
       "    </tr>\n",
       "  </tbody>\n",
       "</table>\n",
       "</div>"
      ],
      "text/plain": [
       "                             1\n",
       "0                             \n",
       "intercept         -0.000557524\n",
       "LotArea              0.0412715\n",
       "OverallQual           0.298858\n",
       "OverallCond                  0\n",
       "YearBuilt            0.0521873\n",
       "YearRemodAdd         0.0656908\n",
       "BsmtFinSF1            0.116139\n",
       "BsmtUnfSF                   -0\n",
       "TotalBsmtSF            0.10346\n",
       "1stFlrSF             0.0284239\n",
       "2ndFlrSF                     0\n",
       "GrLivArea             0.295295\n",
       "FullBath                     0\n",
       "HalfBath                     0\n",
       "BedroomAbvGr                -0\n",
       "TotRmsAbvGrd                 0\n",
       "Fireplaces            0.020196\n",
       "GarageCars           0.0280854\n",
       "GarageArea           0.0633307\n",
       "WoodDeckSF          0.00124881\n",
       "OpenPorchSF         0.00191943\n",
       "EnclosedPorch               -0\n",
       "Blmngtn                     -0\n",
       "Blueste                     -0\n",
       "BrDale                      -0\n",
       "BrkSide                      0\n",
       "ClearCr                      0\n",
       "CollgCr                     -0\n",
       "Crawfor                      0\n",
       "Edwards                     -0\n",
       "Gilbert                     -0\n",
       "IDOTRR                      -0\n",
       "MeadowV                     -0\n",
       "Mitchel                     -0\n",
       "Names                       -0\n",
       "NoRidge              0.0125446\n",
       "NPkVill                     -0\n",
       "NriddgHt              0.083945\n",
       "NWAmes                      -0\n",
       "OLDTown                     -0\n",
       "SWISU                       -0\n",
       "Sawyer                      -0\n",
       "SawyerW                     -0\n",
       "Somerst                      0\n",
       "StoneBr              0.0181744\n",
       "Timber                       0\n",
       "Veenker                      0\n",
       "Bsmt Qual            0.0203862\n",
       "LotFrontage (knn)    0.0144493"
      ]
     },
     "execution_count": 53,
     "metadata": {},
     "output_type": "execute_result"
    }
   ],
   "source": [
    "# DataFrame with corresponding feature and its respective coefficients\n",
    "coeffs = pd.DataFrame(\n",
    "    [\n",
    "        ['intercept'] + list(X_train.columns),\n",
    "        list(lasso.intercept_) + list(lasso.coef_)\n",
    "    ]\n",
    ").transpose().set_index(0)\n",
    "coeffs"
   ]
  },
  {
   "cell_type": "markdown",
   "metadata": {},
   "source": [
    "###### Lasso with different levels of alpha and its mse"
   ]
  },
  {
   "cell_type": "code",
   "execution_count": 52,
   "metadata": {},
   "outputs": [
    {
     "name": "stdout",
     "output_type": "stream",
     "text": [
      "0.11377211331984985\n",
      "0.11375829649921634\n",
      "0.11499889040455556\n",
      "0.11730909522593123\n",
      "0.12045246966091486\n",
      "0.13031370245908774\n",
      "0.13900000256105585\n"
     ]
    }
   ],
   "source": [
    "# We now consider different lambda values. The alphas are half the lambdas\n",
    "alphas=[0.01/2, 0.02/2, 0.03/2, 0.04/2, 0.05/2, 0.075/2, 0.1/2]\n",
    "mses=[]\n",
    "for alpha in alphas:\n",
    "    lasso=Lasso(alpha=alpha)\n",
    "    lasso.fit(X_train,y_train)\n",
    "    pred=lasso.predict(X_val)\n",
    "    mses.append(mse(y_val,pred))\n",
    "    print(mse(y_val, pred))"
   ]
  },
  {
   "cell_type": "markdown",
   "metadata": {},
   "source": [
    "### Multivariate Imputation via Chained Equations"
   ]
  },
  {
   "cell_type": "code",
   "execution_count": 176,
   "metadata": {},
   "outputs": [
    {
     "name": "stdout",
     "output_type": "stream",
     "text": [
      "[IterativeImputer] Completing matrix with shape (2908, 48)\n",
      "[IterativeImputer] Ending imputation round 1/10, elapsed time 0.19\n",
      "[IterativeImputer] Change: 142.21984863281241, scaled tolerance: 0.313 \n",
      "[IterativeImputer] Ending imputation round 2/10, elapsed time 0.40\n",
      "[IterativeImputer] Change: 0.0, scaled tolerance: 0.313 \n",
      "[IterativeImputer] Early stopping criterion reached.\n"
     ]
    }
   ],
   "source": [
    "##use the scale dataset\n",
    "from sklearn import impute\n",
    "from sklearn import experimental\n",
    "from sklearn.experimental import enable_iterative_imputer\n",
    "from sklearn.impute import IterativeImputer\n",
    "from sklearn import preprocessing\n",
    "\n",
    "data_1 = pd.read_csv('Houseprice_data_scaled.csv') \n",
    "data_1['LotFrontage']=raw['LotFrontage'].copy()\n",
    "data_new=data_1.drop(columns=['Sale Price'])\n",
    "lr=LinearRegression()\n",
    "imp = IterativeImputer(estimator=lr,max_iter=10, verbose=2)\n",
    "a=imp.fit_transform(data_new)\n",
    "\n",
    "b= pd.DataFrame(preprocessing.scale(a[:,47:]),columns=['LotFrontage_MICE'])\n",
    "data_1['LotFrontage_MICE']=b\n",
    "data_1=data_1.drop(columns=['LotFrontage'])\n"
   ]
  },
  {
   "cell_type": "code",
   "execution_count": 167,
   "metadata": {},
   "outputs": [
    {
     "name": "stdout",
     "output_type": "stream",
     "text": [
      "[IterativeImputer] Completing matrix with shape (2908, 288)\n",
      "[IterativeImputer] Ending imputation round 1/10, elapsed time 9.30\n",
      "[IterativeImputer] Change: 353.9343001530891, scaled tolerance: 215.245 \n",
      "[IterativeImputer] Ending imputation round 2/10, elapsed time 18.82\n",
      "[IterativeImputer] Change: 12.318124223313362, scaled tolerance: 215.245 \n",
      "[IterativeImputer] Early stopping criterion reached.\n"
     ]
    }
   ],
   "source": [
    "##use the orignal whole dataset (skip this DO NOT RUN THIS CODE)\n",
    "from sklearn import impute\n",
    "from sklearn import experimental\n",
    "from sklearn.experimental import enable_iterative_imputer\n",
    "from sklearn.impute import IterativeImputer\n",
    "from sklearn import preprocessing\n",
    "\n",
    "raw_dummy=pd.get_dummies(raw).drop(columns=['SalePrice'])\n",
    "lr=LinearRegression()\n",
    "imp = IterativeImputer(estimator=lr,max_iter=10, verbose=2)\n",
    "a=imp.fit_transform(raw_dummy)\n",
    "b=raw_dummy.columns\n",
    "\n",
    "LotFrontage=pd.DataFrame(a, columns=b)['LotFrontage']\n",
    "data_1 = pd.read_csv('Houseprice_data_scaled.csv') \n",
    "data_1['LotFrontage_mice']=preprocessing.scale(LotFrontage)\n"
   ]
  },
  {
   "cell_type": "code",
   "execution_count": 178,
   "metadata": {},
   "outputs": [],
   "source": [
    "train_1 = data_1.iloc[:1800] \n",
    "val_1 = data_1.iloc[1800:2400]\n",
    "X_train_1, X_val_1 = train_1.drop('Sale Price', axis=1), val_1.drop('Sale Price', axis=1)\n",
    "y_train_1, y_val_1 = train_1[['Sale Price']], val_1[['Sale Price']] "
   ]
  },
  {
   "cell_type": "markdown",
   "metadata": {},
   "source": [
    "###### Ridge Regression"
   ]
  },
  {
   "cell_type": "code",
   "execution_count": 179,
   "metadata": {},
   "outputs": [
    {
     "name": "stdout",
     "output_type": "stream",
     "text": [
      "0.11487572795890695\n",
      "0.11494458830014738\n",
      "0.11507143731774153\n",
      "0.11524237103854401\n",
      "0.11544776060849138\n",
      "0.11607149015517529\n",
      "0.11680533347506952\n",
      "0.12031391055760328\n",
      "0.12844479230111244\n"
     ]
    }
   ],
   "source": [
    "# The alpha used by Python's ridge should be the lambda in Hull's book times the number of observations\n",
    "alphas=[0.01*1800, 0.02*1800, 0.03*1800, 0.04*1800, 0.05*1800, 0.075*1800,0.1*1800,0.2*1800, 0.4*1800]\n",
    "mses=[]\n",
    "for alpha in alphas:\n",
    "    ridge=Ridge(alpha=alpha)\n",
    "    ridge.fit(X_train_1,y_train_1)\n",
    "    \n",
    "    pred_1=ridge.predict(X_val_1)\n",
    "    mses.append(mse(y_val_1,pred_1))\n",
    "  \n",
    "    print(mse(y_val_1,pred_1))"
   ]
  },
  {
   "cell_type": "markdown",
   "metadata": {},
   "source": [
    "###### Lasso with different levels of alpha and its mse"
   ]
  },
  {
   "cell_type": "code",
   "execution_count": 180,
   "metadata": {
    "scrolled": false
   },
   "outputs": [
    {
     "name": "stdout",
     "output_type": "stream",
     "text": [
      "0.11453446505050062\n",
      "0.11458589205103749\n",
      "0.11580374376276623\n",
      "0.11808905753166438\n",
      "0.12125453902349155\n",
      "0.13095791340827423\n",
      "0.13959602445739805\n"
     ]
    }
   ],
   "source": [
    "# We now consider different lambda values. The alphas are half the lambdas\n",
    "alphas=[0.01/2, 0.02/2, 0.03/2, 0.04/2, 0.05/2, 0.075/2, 0.1/2]\n",
    "mses=[]\n",
    "for alpha in alphas:\n",
    "    lasso=Lasso(alpha=alpha)\n",
    "    lasso.fit(X_train_1,y_train_1)\n",
    "    pred_1=lasso.predict(X_val_1)\n",
    "    mses.append(mse(y_val_1,pred_1))\n",
    "    print(mse(y_val_1, pred_1))"
   ]
  },
  {
   "cell_type": "markdown",
   "metadata": {},
   "source": [
    "##### lasso with alphas=0.02/2 is chosen in further prediction, and KNN is used"
   ]
  },
  {
   "cell_type": "markdown",
   "metadata": {},
   "source": [
    "# Improvement after adding LotFrontage"
   ]
  },
  {
   "cell_type": "markdown",
   "metadata": {},
   "source": [
    "#### Base model (using testing dataset to compare)"
   ]
  },
  {
   "cell_type": "code",
   "execution_count": 183,
   "metadata": {},
   "outputs": [
    {
     "data": {
      "text/plain": [
       "0.14720538902033128"
      ]
     },
     "execution_count": 183,
     "metadata": {},
     "output_type": "execute_result"
    }
   ],
   "source": [
    "data = pd.read_csv('Houseprice_data_scaled.csv') \n",
    "raw = pd.read_csv('original data.csv')\n",
    "# First 1800 data items are training set; the next 600 are the validation set\n",
    "train = data.iloc[:1800] \n",
    "val = data.iloc[1800:2400]\n",
    "test=data.iloc[2400:]\n",
    "# Creating the \"X\" and \"y\" variables. We drop sale price from \"X\"\n",
    "X_train, X_val, X_test = train.drop('Sale Price', axis=1), val.drop('Sale Price', axis=1), test.drop('Sale Price', axis=1)\n",
    "y_train, y_val, y_test = train[['Sale Price']], val[['Sale Price']] ,test[['Sale Price']] \n",
    "\n",
    "\n",
    "alphas= 0.01\n",
    "lasso=Lasso(alpha=alpha)\n",
    "lasso.fit(X_train,y_train)\n",
    "pred=lasso.predict(X_test)\n",
    "mse(y_test,pred)"
   ]
  },
  {
   "cell_type": "markdown",
   "metadata": {},
   "source": [
    "#### Add LotFrontage using KNN (may need to change in future)"
   ]
  },
  {
   "cell_type": "code",
   "execution_count": 62,
   "metadata": {},
   "outputs": [
    {
     "name": "stdout",
     "output_type": "stream",
     "text": [
      "the MSE for the model is 0.14684530505332963 ,the R^2 for train dataset is  0.855695751959162 , and the R^2 for testing dataset is  0.8490172253573256\n"
     ]
    }
   ],
   "source": [
    "train_1 = data_KNN.iloc[:1800] \n",
    "val_1 = data_KNN.iloc[1800:2400]\n",
    "test_1=data_KNN.iloc[2400:]\n",
    "# Creating the \"X\" and \"y\" variables. We drop sale price from \"X\"\n",
    "X_train_1, X_val_1, X_test_1 = train_1.drop('Sale Price', axis=1), val_1.drop('Sale Price', axis=1), test_1.drop('Sale Price', axis=1)\n",
    "y_train_1, y_val_1, y_test_1 = train_1[['Sale Price']], val_1[['Sale Price']] ,test_1[['Sale Price']] \n",
    "\n",
    "alphas= 0.01\n",
    "lasso=Lasso(alpha=alpha)\n",
    "lasso.fit(X_train_1,y_train_1)\n",
    "pred=lasso.predict(X_test_1)\n",
    "print(\"the MSE for the model is\",mse(y_test_1,pred),\",the R^2 for train dataset is \", lasso.score(X_train_1,y_train_1), \", and the R^2 for testing dataset is \",lasso.score(X_test_1,y_test_1))\n"
   ]
  },
  {
   "cell_type": "markdown",
   "metadata": {},
   "source": [
    "# Adding Lotshape "
   ]
  },
  {
   "cell_type": "code",
   "execution_count": 71,
   "metadata": {},
   "outputs": [],
   "source": [
    "from sklearn import preprocessing\n",
    "lotshape=pd.get_dummies(raw.LotShape,drop_first=True)\n",
    "standard_lotshape = pd.DataFrame(preprocessing.scale(lotshape),columns=lotshape.columns)\n",
    "\n",
    "data_KNN[['LotShape IR2','LotShape IR3','LotShape Reg']]=standard_lotshape\n"
   ]
  },
  {
   "cell_type": "code",
   "execution_count": 114,
   "metadata": {},
   "outputs": [
    {
     "name": "stdout",
     "output_type": "stream",
     "text": [
      "the MSE for the model is 0.14684530505332963 ,the R^2 for train dataset is  0.855695751959162 , and the R^2 for testing dataset is  0.8490172253573256\n"
     ]
    }
   ],
   "source": [
    "train_2 = data_KNN.iloc[:1800] \n",
    "val_2 = data_KNN.iloc[1800:2400]\n",
    "test_2=data_KNN.iloc[2400:]\n",
    "# Creating the \"X\" and \"y\" variables. We drop sale price from \"X\"\n",
    "X_train_2, X_val_2, X_test_2 = train_2.drop('Sale Price', axis=1), val_2.drop('Sale Price', axis=1), test_2.drop('Sale Price', axis=1)\n",
    "y_train_2, y_val_2, y_test_2 = train_2[['Sale Price']], val_2[['Sale Price']] ,test_2[['Sale Price']] \n",
    "\n",
    "\n",
    "alphas= 0.01\n",
    "lasso=Lasso(alpha=alpha)\n",
    "lasso.fit(X_train_2,y_train_2)\n",
    "pred_2=lasso.predict(X_test_2)\n",
    "coeffs = pd.DataFrame(\n",
    "    [\n",
    "        ['intercept'] + list(X_train_2.columns),\n",
    "        list(lasso.intercept_) + list(lasso.coef_)\n",
    "    ]\n",
    ").transpose().set_index(0)\n",
    "\n",
    "\n",
    "print( \"the MSE for the model is\",mse(y_test_2,pred_2),\",the R^2 for train dataset is \", lasso.score(X_train_2,y_train_2), \", and the R^2 for testing dataset is \",lasso.score(X_test_2,y_test_2),coeffs)"
   ]
  },
  {
   "cell_type": "markdown",
   "metadata": {},
   "source": [
    "#### Lot shape is penalized and does not improve the model"
   ]
  },
  {
   "cell_type": "markdown",
   "metadata": {},
   "source": [
    "# ADD third and forth variable"
   ]
  },
  {
   "cell_type": "code",
   "execution_count": 81,
   "metadata": {},
   "outputs": [
    {
     "data": {
      "text/plain": [
       "Index(['Id', 'MSSubClass', 'MSZoning', 'LotFrontage', 'LotArea', 'Street',\n",
       "       'Alley', 'LotShape', 'LandContour', 'Utilities', 'LotConfig',\n",
       "       'LandSlope', 'Neighborhood', 'Condition1', 'Condition2', 'BldgType',\n",
       "       'HouseStyle', 'OverallQual', 'OverallCond', 'YearBuilt', 'YearRemodAdd',\n",
       "       'RoofStyle', 'RoofMatl', 'Exterior1st', 'Exterior2nd', 'MasVnrType',\n",
       "       'MasVnrArea', 'ExterQual', 'ExterCond', 'Foundation', 'BsmtQual',\n",
       "       'BsmtCond', 'BsmtExposure', 'BsmtFinType1', 'BsmtFinSF1',\n",
       "       'BsmtFinType2', 'BsmtFinSF2', 'BsmtUnfSF', 'TotalBsmtSF', 'Heating',\n",
       "       'HeatingQC', 'CentralAir', 'Electrical', '1stFlrSF', '2ndFlrSF',\n",
       "       'LowQualFinSF', 'GrLivArea', 'BsmtFullBath', 'BsmtHalfBath', 'FullBath',\n",
       "       'HalfBath', 'BedroomAbvGr', 'KitchenAbvGr', 'KitchenQual',\n",
       "       'TotRmsAbvGrd', 'Functional', 'Fireplaces', 'FireplaceQu', 'GarageType',\n",
       "       'GarageYrBlt', 'GarageFinish', 'GarageCars', 'GarageArea', 'GarageQual',\n",
       "       'GarageCond', 'PavedDrive', 'WoodDeckSF', 'OpenPorchSF',\n",
       "       'EnclosedPorch', '3SsnPorch', 'ScreenPorch', 'PoolArea', 'PoolQC',\n",
       "       'Fence', 'MiscFeature', 'MiscVal', 'MoSold', 'YrSold', 'SaleType',\n",
       "       'SaleCondition', 'SalePrice'],\n",
       "      dtype='object')"
      ]
     },
     "execution_count": 81,
     "metadata": {},
     "output_type": "execute_result"
    }
   ],
   "source": [
    "raw.columns"
   ]
  },
  {
   "cell_type": "code",
   "execution_count": 126,
   "metadata": {
    "scrolled": true
   },
   "outputs": [
    {
     "name": "stdout",
     "output_type": "stream",
     "text": [
      "YrSold the MSE for the model is 0.13900000256105585 ,the R^2 for train dataset is  0.855695751959162 , and the R^2 for testing dataset is  0.8760251916795697\n",
      "CentralAir the MSE for the model is 0.13900000256105585 ,the R^2 for train dataset is  0.855695751959162 , and the R^2 for testing dataset is  0.8760251916795697\n",
      "SaleCondition the MSE for the model is 0.13650995463634133 ,the R^2 for train dataset is  0.8608976308663525 , and the R^2 for testing dataset is  0.8782460780715651\n",
      "Functional the MSE for the model is 0.13900000256105585 ,the R^2 for train dataset is  0.855695751959162 , and the R^2 for testing dataset is  0.8760251916795697\n",
      "BldgType the MSE for the model is 0.13900045001731443 ,the R^2 for train dataset is  0.8556958230596916 , and the R^2 for testing dataset is  0.8760247925910598\n",
      "HouseStyle the MSE for the model is 0.13900000256105585 ,the R^2 for train dataset is  0.855695751959162 , and the R^2 for testing dataset is  0.8760251916795697\n",
      "RoofStyle the MSE for the model is 0.13900000256105585 ,the R^2 for train dataset is  0.855695751959162 , and the R^2 for testing dataset is  0.8760251916795697\n",
      "ExterQual the MSE for the model is 0.13834750971605578 ,the R^2 for train dataset is  0.856608723885834 , and the R^2 for testing dataset is  0.8766071533622956\n"
     ]
    }
   ],
   "source": [
    "from sklearn import preprocessing\n",
    "for column in raw[['YrSold', 'CentralAir','SaleCondition','Functional', 'BldgType','HouseStyle','RoofStyle','ExterQual']]:\n",
    "    dt=data_KNN.copy()\n",
    "    a=raw[[column]].copy()\n",
    "    a_dummy=pd.get_dummies(a,drop_first=True)\n",
    "    a_dummy_df = pd.DataFrame(preprocessing.scale(a_dummy),columns=a_dummy.columns)\n",
    "    dt[list(a_dummy_df.columns)] = a_dummy_df\n",
    "    train_2 = dt.iloc[:1800] \n",
    "    val_2 = dt.iloc[1800:2400]\n",
    "    test_2=dt.iloc[2400:]\n",
    "# Creating the \"X\" and \"y\" variables. We drop sale price from \"X\"\n",
    "    X_train_2, X_val_2, X_test_2 = train_2.drop('Sale Price', axis=1), val_2.drop('Sale Price', axis=1), test_2.drop('Sale Price', axis=1)\n",
    "    y_train_2, y_val_2, y_test_2 = train_2[['Sale Price']], val_2[['Sale Price']] ,test_2[['Sale Price']] \n",
    "\n",
    "\n",
    "    alphas= 0.01\n",
    "    lasso=Lasso(alpha=alpha)\n",
    "    lasso.fit(X_train_2,y_train_2)\n",
    "    pred_2=lasso.predict(X_val_2)\n",
    "    coeffs = pd.DataFrame(\n",
    "        [\n",
    "            ['intercept'] + list(X_train_2.columns),\n",
    "            list(lasso.intercept_) + list(lasso.coef_)\n",
    "        ]\n",
    "    ).transpose().set_index(0)\n",
    "\n",
    "   # print( column, \"the MSE for the model is\",mse(y_test_2,pred_2),\",the R^2 for train dataset is \", lasso.score(X_train_2,y_train_2), \", and the R^2 for testing dataset is \",lasso.score(X_test_2,y_test_2),coeffs)\n",
    "    print( column, \"the MSE for the model is\",mse(y_val_2,pred_2),\",the R^2 for train dataset is \", lasso.score(X_train_2,y_train_2), \", and the R^2 for testing dataset is \",lasso.score(X_val_2,y_val_2))    \n",
    "\n",
    "    \n",
    "    "
   ]
  },
  {
   "cell_type": "markdown",
   "metadata": {},
   "source": [
    "#### choose SaleCondition as the third variable "
   ]
  },
  {
   "cell_type": "code",
   "execution_count": 127,
   "metadata": {},
   "outputs": [
    {
     "name": "stdout",
     "output_type": "stream",
     "text": [
      "YrSold the MSE for the model is 0.13650995463634133 ,the R^2 for train dataset is  0.8608976308663525 , and the R^2 for testing dataset is  0.8782460780715651\n",
      "CentralAir the MSE for the model is 0.13650995463634133 ,the R^2 for train dataset is  0.8608976308663525 , and the R^2 for testing dataset is  0.8782460780715651\n",
      "SaleCondition the MSE for the model is 0.13650995463634133 ,the R^2 for train dataset is  0.8608976308663525 , and the R^2 for testing dataset is  0.8782460780715651\n",
      "Functional the MSE for the model is 0.13650995463634133 ,the R^2 for train dataset is  0.8608976308663525 , and the R^2 for testing dataset is  0.8782460780715651\n",
      "HouseStyle the MSE for the model is 0.13650995463634133 ,the R^2 for train dataset is  0.8608976308663525 , and the R^2 for testing dataset is  0.8782460780715651\n",
      "RoofStyle the MSE for the model is 0.13650995463634133 ,the R^2 for train dataset is  0.8608976308663525 , and the R^2 for testing dataset is  0.8782460780715651\n",
      "ExterQual the MSE for the model is 0.13606167912888595 ,the R^2 for train dataset is  0.8616447396225886 , and the R^2 for testing dataset is  0.8786458972736338\n"
     ]
    }
   ],
   "source": [
    "from sklearn import preprocessing\n",
    "dt=data_KNN.copy()\n",
    "a=raw[['SaleCondition']].copy()\n",
    "a_dummy=pd.get_dummies(a,drop_first=True)\n",
    "a_dummy_df = pd.DataFrame(preprocessing.scale(a_dummy),columns=a_dummy.columns)\n",
    "dt[list(a_dummy_df.columns)] = a_dummy_df\n",
    "data_3=dt.copy()\n",
    "\n",
    "for column in raw[['YrSold', 'CentralAir','SaleCondition','Functional', 'HouseStyle','RoofStyle','ExterQual']]:\n",
    "    dt=data_3.copy()\n",
    "    a=raw[[column]].copy()\n",
    "    a_dummy=pd.get_dummies(a,drop_first=True)\n",
    "    a_dummy_df = pd.DataFrame(preprocessing.scale(a_dummy),columns=a_dummy.columns)\n",
    "    dt[list(a_dummy_df.columns)] = a_dummy_df\n",
    "    train_2 = dt.iloc[:1800] \n",
    "    val_2 = dt.iloc[1800:2400]\n",
    "    test_2=dt.iloc[2400:]\n",
    "# Creating the \"X\" and \"y\" variables. We drop sale price from \"X\"\n",
    "    X_train_2, X_val_2, X_test_2 = train_2.drop('Sale Price', axis=1), val_2.drop('Sale Price', axis=1), test_2.drop('Sale Price', axis=1)\n",
    "    y_train_2, y_val_2, y_test_2 = train_2[['Sale Price']], val_2[['Sale Price']] ,test_2[['Sale Price']] \n",
    "\n",
    "\n",
    "    alphas= 0.01\n",
    "    lasso=Lasso(alpha=alpha)\n",
    "    lasso.fit(X_train_2,y_train_2)\n",
    "    pred_2=lasso.predict(X_val_2)\n",
    "    coeffs = pd.DataFrame(\n",
    "        [\n",
    "            ['intercept'] + list(X_train_2.columns),\n",
    "            list(lasso.intercept_) + list(lasso.coef_)\n",
    "        ]\n",
    "    ).transpose().set_index(0)\n",
    "\n",
    "   # print( column, \"the MSE for the model is\",mse(y_test_2,pred_2),\",the R^2 for train dataset is \", lasso.score(X_train_2,y_train_2), \", and the R^2 for testing dataset is \",lasso.score(X_test_2,y_test_2),coeffs)\n",
    "    print( column, \"the MSE for the model is\",mse(y_val_2,pred_2),\",the R^2 for train dataset is \", lasso.score(X_train_2,y_train_2), \", and the R^2 for testing dataset is \",lasso.score(X_val_2,y_val_2))    \n",
    "\n",
    "   \n"
   ]
  },
  {
   "cell_type": "markdown",
   "metadata": {},
   "source": [
    "#### choose ExterQual as the 4th variable since it improved the MSE"
   ]
  },
  {
   "cell_type": "code",
   "execution_count": 132,
   "metadata": {},
   "outputs": [
    {
     "name": "stdout",
     "output_type": "stream",
     "text": [
      "ExterQual the MSE for the model is 0.13779686979443198 ,the R^2 for train dataset is  0.8616447396225886 , and the R^2 for testing dataset is  0.8583206066337431                                 1\n",
      "0                                \n",
      "intercept              0.00059662\n",
      "LotArea                  0.041912\n",
      "OverallQual              0.287479\n",
      "OverallCond                     0\n",
      "YearBuilt               0.0383137\n",
      "YearRemodAdd            0.0521956\n",
      "BsmtFinSF1               0.125897\n",
      "BsmtUnfSF                      -0\n",
      "TotalBsmtSF             0.0980082\n",
      "1stFlrSF                0.0269694\n",
      "2ndFlrSF                        0\n",
      "GrLivArea                0.294788\n",
      "FullBath                        0\n",
      "HalfBath                        0\n",
      "BedroomAbvGr                   -0\n",
      "TotRmsAbvGrd                    0\n",
      "Fireplaces              0.0224275\n",
      "GarageCars              0.0314963\n",
      "GarageArea               0.054598\n",
      "WoodDeckSF             0.00620259\n",
      "OpenPorchSF                     0\n",
      "EnclosedPorch                  -0\n",
      "Blmngtn                        -0\n",
      "Blueste                        -0\n",
      "BrDale                         -0\n",
      "BrkSide                         0\n",
      "ClearCr                         0\n",
      "CollgCr                        -0\n",
      "Crawfor                         0\n",
      "Edwards                        -0\n",
      "Gilbert                         0\n",
      "IDOTRR                         -0\n",
      "MeadowV                        -0\n",
      "Mitchel                        -0\n",
      "Names                          -0\n",
      "NoRidge                 0.0132937\n",
      "NPkVill                        -0\n",
      "NriddgHt                 0.076259\n",
      "NWAmes                         -0\n",
      "OLDTown                        -0\n",
      "SWISU                          -0\n",
      "Sawyer                         -0\n",
      "SawyerW                        -0\n",
      "Somerst                         0\n",
      "StoneBr                 0.0133472\n",
      "Timber                          0\n",
      "Veenker                         0\n",
      "Bsmt Qual               0.0146956\n",
      "LotFrontage (knn)       0.0138808\n",
      "LotShape IR2                    0\n",
      "LotShape IR3                    0\n",
      "LotShape Reg                   -0\n",
      "SaleCondition_AdjLand           0\n",
      "SaleCondition_Alloca           -0\n",
      "SaleCondition_Family           -0\n",
      "SaleCondition_Normal            0\n",
      "SaleCondition_Partial   0.0512887\n",
      "ExterQual_Fa                   -0\n",
      "ExterQual_Gd                    0\n",
      "ExterQual_TA           -0.0355506\n"
     ]
    }
   ],
   "source": [
    "from sklearn import preprocessing\n",
    "dt=data_3.copy()\n",
    "a=raw[['ExterQual']].copy()\n",
    "a_dummy=pd.get_dummies(a,drop_first=True)\n",
    "a_dummy_df = pd.DataFrame(preprocessing.scale(a_dummy),columns=a_dummy.columns)\n",
    "dt[list(a_dummy_df.columns)] = a_dummy_df\n",
    "data_4=dt.copy()\n",
    "\n",
    "train_4 = data_4.iloc[:1800] \n",
    "val_4 = data_4.iloc[1800:2400]\n",
    "test_4=data_4.iloc[2400:]\n",
    "# Creating the \"X\" and \"y\" variables. We drop sale price from \"X\"\n",
    "X_train_4, X_val_4, X_test_4 = train_4.drop('Sale Price', axis=1), val_4.drop('Sale Price', axis=1), test_4.drop('Sale Price', axis=1)\n",
    "y_train_4, y_val_4, y_test_4 = train_4[['Sale Price']], val_4[['Sale Price']] ,test_4[['Sale Price']] \n",
    "\n",
    "\n",
    "alphas= 0.01\n",
    "lasso=Lasso(alpha=alpha)\n",
    "lasso.fit(X_train_4,y_train_4)\n",
    "pred_4=lasso.predict(X_test_4)\n",
    "coeffs = pd.DataFrame(\n",
    "    [\n",
    "        ['intercept'] + list(X_train_4.columns),\n",
    "        list(lasso.intercept_) + list(lasso.coef_)\n",
    "    ]\n",
    ").transpose().set_index(0)\n",
    "\n",
    "\n",
    "print( column, \"the MSE for the model is\",mse(y_test_4,pred_4),\",the R^2 for train dataset is \", lasso.score(X_train_4,y_train_4), \", and the R^2 for testing dataset is \",lasso.score(X_test_4,y_test_4),coeffs)    \n",
    "\n",
    "   "
   ]
  },
  {
   "cell_type": "markdown",
   "metadata": {},
   "source": [
    "#### Adding additional features ExterQual and SaleCondition improved the MSE and R^2"
   ]
  }
 ],
 "metadata": {
  "kernelspec": {
   "display_name": "Python 3",
   "language": "python",
   "name": "python3"
  },
  "language_info": {
   "codemirror_mode": {
    "name": "ipython",
    "version": 3
   },
   "file_extension": ".py",
   "mimetype": "text/x-python",
   "name": "python",
   "nbconvert_exporter": "python",
   "pygments_lexer": "ipython3",
   "version": "3.7.1"
  }
 },
 "nbformat": 4,
 "nbformat_minor": 5
}
