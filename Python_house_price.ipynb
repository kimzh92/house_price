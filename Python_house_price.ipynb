{
  "cells": [
    {
      "cell_type": "markdown",
      "metadata": {
        "id": "0SwiDIXh72cY"
      },
      "source": [
        "## Lasso without new features"
      ]
    },
    {
      "cell_type": "code",
      "source": [
        "##test"
      ],
      "metadata": {
        "id": "GDEUl9zQ732I"
      },
      "execution_count": 2,
      "outputs": []
    },
    {
      "cell_type": "code",
      "execution_count": null,
      "metadata": {
        "id": "UwoXXKjX72cZ"
      },
      "outputs": [],
      "source": [
        "# Importing necessary packages\n",
        "import pandas as pd # python's data handling package\n",
        "import numpy as np # python's scientific computing package\n",
        "import matplotlib.pyplot as plt # python's plotting package\n",
        "from sklearn.metrics import mean_squared_error as mse\n",
        "from sklearn.linear_model import LinearRegression"
      ]
    },
    {
      "cell_type": "code",
      "execution_count": null,
      "metadata": {
        "id": "DIp5IpDW72ca"
      },
      "outputs": [],
      "source": [
        "# Both features and target have already been scaled: mean = 0; SD = 1\n",
        "data = pd.read_csv('Houseprice_data_scaled.csv') \n",
        "data_orig=pd.read_csv('original data.csv') "
      ]
    },
    {
      "cell_type": "code",
      "execution_count": null,
      "metadata": {
        "id": "btX1LYF-72cb"
      },
      "outputs": [],
      "source": [
        "# First 1800 data items are training set; the next 600 are the validation set\n",
        "train = data.iloc[:1800] \n",
        "val = data.iloc[1800:2400]"
      ]
    },
    {
      "cell_type": "code",
      "execution_count": null,
      "metadata": {
        "id": "nBzVrJpQ72cb"
      },
      "outputs": [],
      "source": [
        "# Creating the \"X\" and \"y\" variables. We drop sale price from \"X\"\n",
        "X_train, X_val = train.drop('Sale Price', axis=1), val.drop('Sale Price', axis=1)\n",
        "y_train, y_val = train[['Sale Price']], val[['Sale Price']] "
      ]
    },
    {
      "cell_type": "code",
      "execution_count": null,
      "metadata": {
        "id": "-BUUwlbm72cb",
        "outputId": "98732fb9-a683-4cea-ba18-f1b0c52ce7ef"
      },
      "outputs": [
        {
          "data": {
            "text/plain": [
              "0.14017194584483775"
            ]
          },
          "execution_count": 5,
          "metadata": {},
          "output_type": "execute_result"
        }
      ],
      "source": [
        "from sklearn.linear_model import Lasso\n",
        "lasso = Lasso(alpha=0.05)\n",
        "model=lasso.fit(X_train, y_train)\n",
        "\n",
        "coeffs = pd.DataFrame(\n",
        "    [\n",
        "        ['intercept'] + list(X_train.columns),\n",
        "        list(lasso.intercept_) + list(lasso.coef_)\n",
        "    ]\n",
        ").transpose().set_index(0)\n",
        "coeffs\n",
        "yhat = pd.DataFrame(model.predict(X_val),columns=['yhat'])\n",
        "mse(yhat,y_val)"
      ]
    },
    {
      "cell_type": "markdown",
      "metadata": {
        "id": "NMKtNLzc72cc"
      },
      "source": [
        "## Lasso with 2 features"
      ]
    },
    {
      "cell_type": "code",
      "execution_count": null,
      "metadata": {
        "id": "kRp1VAgI72cc"
      },
      "outputs": [],
      "source": [
        "# Importing necessary packages\n",
        "import pandas as pd # python's data handling package\n",
        "import numpy as np # python's scientific computing package\n",
        "import matplotlib.pyplot as plt # python's plotting package\n",
        "from sklearn.metrics import mean_squared_error as mse\n",
        "from sklearn.linear_model import LinearRegression"
      ]
    },
    {
      "cell_type": "code",
      "execution_count": null,
      "metadata": {
        "id": "bKCPvAxw72cc"
      },
      "outputs": [],
      "source": [
        "# Both features and target have already been scaled: mean = 0; SD = 1\n",
        "data = pd.read_csv('Houseprice_data_scaled.csv') \n",
        "data_orig=pd.read_csv('original data.csv') "
      ]
    },
    {
      "cell_type": "code",
      "execution_count": null,
      "metadata": {
        "id": "NOwkAHnn72cd"
      },
      "outputs": [],
      "source": [
        "data['LotFrontage']=data_orig['LotFrontage']"
      ]
    },
    {
      "cell_type": "code",
      "execution_count": null,
      "metadata": {
        "id": "UDDUjw-X72cd",
        "outputId": "fabc1c46-2d88-493a-ce69-c06e534c90f4"
      },
      "outputs": [
        {
          "name": "stdout",
          "output_type": "stream",
          "text": [
            "[IterativeImputer] Completing matrix with shape (2908, 48)\n",
            "[IterativeImputer] Ending imputation round 1/10, elapsed time 0.24\n",
            "[IterativeImputer] Change: 135.78391620779294, scaled tolerance: 0.313 \n",
            "[IterativeImputer] Ending imputation round 2/10, elapsed time 0.50\n",
            "[IterativeImputer] Change: 0.0, scaled tolerance: 0.313 \n",
            "[IterativeImputer] Early stopping criterion reached.\n"
          ]
        }
      ],
      "source": [
        "#using Multivariate feature imputation\n",
        "from sklearn import impute\n",
        "from sklearn import experimental\n",
        "from sklearn.experimental import enable_iterative_imputer\n",
        "from sklearn.impute import IterativeImputer\n",
        "\n",
        "data_new=data.drop(columns=['Sale Price'])\n",
        "lr=LinearRegression()\n",
        "imp = IterativeImputer( max_iter=10, verbose=2,imputation_order='roman')\n",
        "a=imp.fit_transform(data_new)\n"
      ]
    },
    {
      "cell_type": "code",
      "execution_count": null,
      "metadata": {
        "scrolled": true,
        "id": "aJIuz7Vs72ce"
      },
      "outputs": [],
      "source": [
        "b=data_new.columns\n",
        "data_new=pd.DataFrame(a, columns=b)"
      ]
    },
    {
      "cell_type": "code",
      "execution_count": null,
      "metadata": {
        "id": "nntB1gtm72ce",
        "outputId": "dbd8e1ea-49f3-4aed-a6bf-72e336018a7a"
      },
      "outputs": [
        {
          "data": {
            "text/plain": [
              "0"
            ]
          },
          "execution_count": 11,
          "metadata": {},
          "output_type": "execute_result"
        }
      ],
      "source": [
        "# replace with median\n",
        "data_new['Lot_median']=data_orig.LotFrontage.fillna(data_orig.LotFrontage.median())\n",
        "data_new.Lot_median.isnull().sum()"
      ]
    },
    {
      "cell_type": "code",
      "execution_count": null,
      "metadata": {
        "id": "uptfJC9S72ce",
        "outputId": "8c351b00-8b7c-4aab-b6d1-dfe7e36bf2a7"
      },
      "outputs": [
        {
          "data": {
            "text/plain": [
              "0"
            ]
          },
          "execution_count": 12,
          "metadata": {},
          "output_type": "execute_result"
        }
      ],
      "source": [
        "# replace with mean\n",
        "data_new['Lot_mean']=data_orig.LotFrontage.fillna(data_orig.LotFrontage.mean())\n",
        "data_new.Lot_mean.isnull().sum()"
      ]
    },
    {
      "cell_type": "code",
      "execution_count": null,
      "metadata": {
        "scrolled": true,
        "id": "stb10TeH72ce"
      },
      "outputs": [],
      "source": [
        "data_new['Sale Price']=data['Sale Price']\n"
      ]
    },
    {
      "cell_type": "code",
      "execution_count": null,
      "metadata": {
        "id": "8I6VCrAl72cf",
        "outputId": "e2431302-7091-46fa-9955-cc8fa7c6166c"
      },
      "outputs": [
        {
          "name": "stdout",
          "output_type": "stream",
          "text": [
            "IR1    3.917087e-17\n",
            "IR2   -3.102363e-16\n",
            "IR3   -1.253296e-16\n",
            "Reg   -1.010960e-16\n",
            "dtype: float64\n"
          ]
        }
      ],
      "source": [
        "from sklearn.linear_model import Lasso\n",
        "from sklearn import preprocessing\n",
        "\n",
        "data_with_rep= data_new.drop(columns=['Lot_mean','Lot_median'])\n",
        "lotshape=pd.get_dummies(data_orig.LotShape)\n",
        "\n",
        "\n",
        "standard_lotshape = pd.DataFrame(preprocessing.scale(lotshape),columns=lotshape.columns)\n",
        "print(standard_lotshape.mean())\n",
        "\n",
        "\n",
        "data_with_rep[['LotShape IR1','LotShape IR2','LotShape IR3','LotShape Reg']]=standard_lotshape"
      ]
    },
    {
      "cell_type": "code",
      "execution_count": null,
      "metadata": {
        "id": "AF-VxlGt72cf"
      },
      "outputs": [],
      "source": [
        "train_1 = data_with_rep.iloc[:1800] \n",
        "val_1 = data_with_rep.iloc[1800:2400]\n",
        "\n",
        "X_train_1, X_val_1 = train_1.drop('Sale Price', axis=1), val_1.drop('Sale Price', axis=1)\n",
        "y_train_1, y_val_1 = train_1[['Sale Price']], val_1[['Sale Price']] "
      ]
    },
    {
      "cell_type": "code",
      "execution_count": null,
      "metadata": {
        "scrolled": false,
        "id": "bphdp_oq72cf",
        "outputId": "d302c1d9-3a00-4765-c962-1e1b2282a6bf"
      },
      "outputs": [
        {
          "data": {
            "text/plain": [
              "0.1376767020469549"
            ]
          },
          "execution_count": 16,
          "metadata": {},
          "output_type": "execute_result"
        }
      ],
      "source": [
        "from sklearn import preprocessing\n",
        "\n",
        "lasso = Lasso(alpha=0.05)\n",
        "model=lasso.fit(X_train_1, y_train_1)\n",
        "\n",
        "coeffs = pd.DataFrame(\n",
        "    [\n",
        "        ['intercept'] + list(X_train_1.columns),\n",
        "        list(lasso.intercept_) + list(lasso.coef_)\n",
        "    ]\n",
        ").transpose().set_index(0)\n",
        "coeffs\n",
        "\n",
        "yhat_1 = pd.DataFrame(model.predict(X_val_1),columns=['yhat'])\n",
        "mse(yhat_1,y_val_1)"
      ]
    },
    {
      "cell_type": "code",
      "execution_count": null,
      "metadata": {
        "scrolled": true,
        "id": "ggPUaiH472cg",
        "outputId": "03f80cff-23ef-4cf9-95ee-ae25a975f81e"
      },
      "outputs": [
        {
          "data": {
            "text/plain": [
              "0.37104811284650796"
            ]
          },
          "execution_count": 17,
          "metadata": {},
          "output_type": "execute_result"
        }
      ],
      "source": [
        "np.sqrt(mse(yhat_1,y_val_1))"
      ]
    },
    {
      "cell_type": "markdown",
      "metadata": {
        "id": "d_t8O0-P72cg"
      },
      "source": [
        "## four features"
      ]
    },
    {
      "cell_type": "code",
      "execution_count": null,
      "metadata": {
        "id": "5RKBkt9272cg"
      },
      "outputs": [],
      "source": [
        "data_dummies_4=pd.get_dummies(data_orig[['Functional','SaleCondition']])\n",
        "standard_features = pd.DataFrame(preprocessing.scale(data_dummies_4),columns=data_dummies_4.columns)\n",
        "data_standard_4=data_with_rep.join(standard_features)\n",
        "data_standard_4_trim=data_standard_4.drop(['LotShape Reg','Functional_Typ','SaleCondition_Normal'],axis = 1)\n"
      ]
    },
    {
      "cell_type": "code",
      "execution_count": null,
      "metadata": {
        "id": "BeiJIHAE72cg",
        "outputId": "e184ec42-5bfe-4ec4-8fce-2d0074ec715d"
      },
      "outputs": [
        {
          "data": {
            "text/plain": [
              "0.367417516991012"
            ]
          },
          "execution_count": 19,
          "metadata": {},
          "output_type": "execute_result"
        }
      ],
      "source": [
        "train_4 = data_standard_4_trim.iloc[:1800] \n",
        "val_4 = data_standard_4_trim.iloc[1800:2400]\n",
        "\n",
        "X_train_4, X_val_4 = train_4.drop('Sale Price', axis=1), val_4.drop('Sale Price', axis=1)\n",
        "y_train_4, y_val_4 = train_4[['Sale Price']], val_4[['Sale Price']] \n",
        "\n",
        "lasso = Lasso(alpha=0.05)\n",
        "model=lasso.fit(X_train_4, y_train_4)\n",
        "\n",
        "coeffs = pd.DataFrame(\n",
        "    [\n",
        "        ['intercept'] + list(X_train_4.columns),\n",
        "        list(lasso.intercept_) + list(lasso.coef_)\n",
        "    ]\n",
        ").transpose().set_index(0)\n",
        "coeffs\n",
        "yhat_4 = pd.DataFrame(model.predict(X_val_4),columns=['yhat'])\n",
        "np.sqrt(mse(yhat_4,y_val_4))"
      ]
    },
    {
      "cell_type": "code",
      "execution_count": null,
      "metadata": {
        "id": "BW5srkkr72ch",
        "outputId": "a9888911-ea76-410f-bd65-9832efeb6e0c"
      },
      "outputs": [
        {
          "data": {
            "text/plain": [
              "0.13499563179184057"
            ]
          },
          "execution_count": 20,
          "metadata": {},
          "output_type": "execute_result"
        }
      ],
      "source": [
        "mse(yhat_4,y_val_4)"
      ]
    }
  ],
  "metadata": {
    "file_extension": ".py",
    "kernelspec": {
      "display_name": "Python 3",
      "language": "python",
      "name": "python3"
    },
    "language_info": {
      "codemirror_mode": {
        "name": "ipython",
        "version": 3
      },
      "file_extension": ".py",
      "mimetype": "text/x-python",
      "name": "python",
      "nbconvert_exporter": "python",
      "pygments_lexer": "ipython3",
      "version": "3.7.1"
    },
    "mimetype": "text/x-python",
    "name": "python",
    "npconvert_exporter": "python",
    "pygments_lexer": "ipython3",
    "version": 3,
    "colab": {
      "name": "Python_house_price.ipynb",
      "provenance": [],
      "toc_visible": true
    }
  },
  "nbformat": 4,
  "nbformat_minor": 0
}